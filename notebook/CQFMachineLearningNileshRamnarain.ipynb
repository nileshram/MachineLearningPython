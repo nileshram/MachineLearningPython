{
 "cells": [
  {
   "cell_type": "markdown",
   "metadata": {},
   "source": [
    "## CQF Exam 3 - Machine Learning "
   ]
  },
  {
   "cell_type": "code",
   "execution_count": 1,
   "metadata": {
    "scrolled": true,
    "tags": [
     "hidecode"
    ]
   },
   "outputs": [
    {
     "name": "stdout",
     "output_type": "stream",
     "text": [
      "/home/nilesh/workspace/CQFMachineLearning\n"
     ]
    }
   ],
   "source": [
    "import project_path\n",
    "from builtins import staticmethod\n",
    "from abc import abstractmethod, ABCMeta\n",
    "from sklearn import linear_model, svm, model_selection\n",
    "from sklearn.metrics import confusion_matrix, classification_report\n",
    "import statsmodels.api as sm\n",
    "import matplotlib.pyplot as plt\n",
    "import numpy as np\n",
    "import pandas as pd\n",
    "import logging.config\n",
    "import os\n",
    "import json\n",
    "%cd /home/nilesh/workspace/CQFMachineLearning/\n",
    "%matplotlib inline"
   ]
  },
  {
   "cell_type": "code",
   "execution_count": 2,
   "metadata": {},
   "outputs": [],
   "source": [
    "from main import ConfigurationFactory, DataModel, LogisticalRegression, SupportVectorMachine, GraphLib, SupervisedLearning"
   ]
  },
  {
   "cell_type": "code",
   "execution_count": 3,
   "metadata": {},
   "outputs": [
    {
     "name": "stdout",
     "output_type": "stream",
     "text": [
      "20191106 23:50:31 - INFO : Initialising Program For CQF Exam 3 Machine Learning with Python\n"
     ]
    }
   ],
   "source": [
    "ConfigurationFactory._configure_log()\n",
    "log = logging.getLogger(\"cqf_logger\")\n",
    "log.info(\"Initialising Program For CQF Exam 3 Machine Learning with Python\")\n",
    "#initialise data model\n",
    "data = DataModel()"
   ]
  },
  {
   "cell_type": "code",
   "execution_count": 4,
   "metadata": {
    "scrolled": false
   },
   "outputs": [],
   "source": [
    "class LogisticalRegression(SupervisedLearning):\n",
    "    \n",
    "    def __init__(self):\n",
    "        super(LogisticalRegression, self).__init__()\n",
    "        self._init_classifier()\n",
    "\n",
    "    def _init_classifier(self):\n",
    "        self.lm = linear_model.LogisticRegression(C = 1e5)\n",
    "    \n",
    "    def fit_model(self, x_param, y_param):\n",
    "        log.info(\"Fitting model against specified parameters\")\n",
    "        self.lm.fit(x_param, y_param)\n",
    "        \n",
    "    def run_classifier(self, data):\n",
    "        log.info(\"Running Logisitical Regression Classifier\")\n",
    "        #perform the regression on returns here\n",
    "        returns_sign = np.sign(data.model.log_return)\n",
    "        lagged_headers = [header for header in list(data.model) if \"lagged\" in header]\n",
    "        #fitting done here\n",
    "        self.fit_model(data.model[lagged_headers], returns_sign)\n",
    "        self.run_prediction(data.model[lagged_headers])\n",
    "        data.model[\"logistic_return\"] = abs(data.model.log_return) * data.model.log_pred\n",
    "        \n",
    "        self.output_results()\n",
    "        self.split_training_set(lagged_headers, data.model.log_pred)\n",
    "\n",
    "    def run_prediction(self, model):\n",
    "        log.info(\"Running Logistical Regression Prediction\")\n",
    "        data.model[\"log_pred\"] = self.lm.predict(model)\n",
    "    \n",
    "    def split_training_set(self, x_features, y_param):\n",
    "        #Test on training set\n",
    "        self.x_train, self.x_test, self.y_train, self.y_test = model_selection.train_test_split(data.model[x_features], y_param,\n",
    "                                                                            test_size=0.7, shuffle=False)\n",
    "        \n",
    "        print(\"Running second logistic classifier on training set\")\n",
    "        logit2 = linear_model.LogisticRegression(C = 1e5)\n",
    "        logit2.fit(self.x_train, self.y_train)\n",
    "        y_pred = logit2.predict(self.x_test)\n",
    "        self.c_matrix = confusion_matrix(self.y_test, y_pred)\n",
    "        print(self.c_matrix)\n",
    "    \n",
    "    def output_results(self):\n",
    "        print(\"Logistic Return Prediction Data Summary: {}\".format(data.model.log_pred.value_counts()))\n",
    "        print(\"Logistic Regression data model: {}, with size {}\".format(data.model.head(), len(data.model.log_pred)))\n",
    "        \n",
    "        \n",
    "\n",
    "class SupportVectorMachine(SupervisedLearning):\n",
    "    \n",
    "    def __init__(self):\n",
    "        super(SupportVectorMachine, self).__init__()\n",
    "        self._init_classifier()\n",
    "\n",
    "    def _init_classifier(self):\n",
    "        self.svm = svm.SVC(C = 1e5, probability=True)\n",
    "    \n",
    "    def fit_model(self, x_param, y_param):\n",
    "        self.svm.fit(x_param, y_param)\n",
    "        \n",
    "    def run_classifier(self, data):\n",
    "        log.info(\"Running SVM Classifier\")\n",
    "        #perform the regression on returns here\n",
    "        returns_sign = np.sign(data.model.log_return)\n",
    "        lagged_headers = [header for header in list(data.model) if \"lagged\" in header]\n",
    "        #fitting done here\n",
    "        log.info(\"Fitting model against specified parameters\")\n",
    "        self.fit_model(data.model[lagged_headers], returns_sign)\n",
    "        self.run_prediction(data.model[lagged_headers])\n",
    "        data.model[\"svm_return\"] = abs(data.model.log_return) * data.model.svm_pred\n",
    "        print(\"SVM score: {}\".format(self.svm.score(data.model[lagged_headers], returns_sign)))\n",
    "        \n",
    "    def run_prediction(self, model):\n",
    "        log.info(\"Running SVM Prediction\")\n",
    "        data.model[\"svm_pred\"] = self.svm.predict(model)\n",
    "        \n"
   ]
  },
  {
   "cell_type": "code",
   "execution_count": 5,
   "metadata": {},
   "outputs": [
    {
     "name": "stdout",
     "output_type": "stream",
     "text": [
      "20191106 23:50:31 - INFO : Running Logisitical Regression Classifier\n",
      "20191106 23:50:31 - INFO : Fitting model against specified parameters\n",
      "20191106 23:50:31 - INFO : Running Logistical Regression Prediction\n",
      "Logistic Return Prediction Data Summary:  1.0    4942\n",
      "-1.0      89\n",
      "Name: log_pred, dtype: int64\n",
      "Logistic Regression data model:          Date    Open    High     Low  Settle  Volume  log_return  \\\n",
      "6  2000-01-11  6945.0  6981.0  6861.0  6938.5   58944   -0.003094   \n",
      "7  2000-01-12  6860.0  6946.5  6828.5  6938.0   50030   -0.000072   \n",
      "8  2000-01-13  6940.0  7145.0  6923.5  7009.0   67693    0.010181   \n",
      "9  2000-01-14  7053.0  7246.0  7053.0  7229.0   63855    0.030906   \n",
      "10 2000-01-17  7264.5  7326.0  7146.5  7307.0   47015    0.010732   \n",
      "\n",
      "    lagged_return_1  lagged_return_2  lagged_return_3  lagged_return_4  \\\n",
      "6          0.018855         0.048677        -0.004065        -0.014892   \n",
      "7         -0.003094         0.018855         0.048677        -0.004065   \n",
      "8         -0.000072        -0.003094         0.018855         0.048677   \n",
      "9          0.010181        -0.000072        -0.003094         0.018855   \n",
      "10         0.030906         0.010181        -0.000072        -0.003094   \n",
      "\n",
      "    lagged_return_5  log_pred  logistic_return  \n",
      "6         -0.025979       1.0         0.003094  \n",
      "7         -0.014892       1.0         0.000072  \n",
      "8         -0.004065       1.0         0.010181  \n",
      "9          0.048677      -1.0        -0.030906  \n",
      "10         0.018855       1.0         0.010732  , with size 5031\n",
      "Running second logistic classifier on training set\n",
      "[[  39    8]\n",
      " [   0 3475]]\n",
      "20191106 23:50:31 - INFO : Running SVM Classifier\n",
      "20191106 23:50:31 - INFO : Fitting model against specified parameters\n",
      "20191106 23:50:44 - INFO : Running SVM Prediction\n",
      "SVM score: 0.5297157622739018\n"
     ]
    }
   ],
   "source": [
    "logit = LogisticalRegression()\n",
    "logit.run_classifier(data)\n",
    "        \n",
    "svm = SupportVectorMachine()\n",
    "svm.run_classifier(data)"
   ]
  },
  {
   "cell_type": "code",
   "execution_count": 6,
   "metadata": {},
   "outputs": [
    {
     "data": {
      "text/html": [
       "<div>\n",
       "<style scoped>\n",
       "    .dataframe tbody tr th:only-of-type {\n",
       "        vertical-align: middle;\n",
       "    }\n",
       "\n",
       "    .dataframe tbody tr th {\n",
       "        vertical-align: top;\n",
       "    }\n",
       "\n",
       "    .dataframe thead th {\n",
       "        text-align: right;\n",
       "    }\n",
       "</style>\n",
       "<table border=\"1\" class=\"dataframe\">\n",
       "  <thead>\n",
       "    <tr style=\"text-align: right;\">\n",
       "      <th></th>\n",
       "      <th>Date</th>\n",
       "      <th>Open</th>\n",
       "      <th>High</th>\n",
       "      <th>Low</th>\n",
       "      <th>Settle</th>\n",
       "      <th>Volume</th>\n",
       "      <th>log_return</th>\n",
       "      <th>lagged_return_1</th>\n",
       "      <th>lagged_return_2</th>\n",
       "      <th>lagged_return_3</th>\n",
       "      <th>lagged_return_4</th>\n",
       "      <th>lagged_return_5</th>\n",
       "      <th>log_pred</th>\n",
       "      <th>logistic_return</th>\n",
       "      <th>svm_pred</th>\n",
       "      <th>svm_return</th>\n",
       "    </tr>\n",
       "  </thead>\n",
       "  <tbody>\n",
       "    <tr>\n",
       "      <th>6</th>\n",
       "      <td>2000-01-11</td>\n",
       "      <td>6945.0</td>\n",
       "      <td>6981.0</td>\n",
       "      <td>6861.0</td>\n",
       "      <td>6938.5</td>\n",
       "      <td>58944</td>\n",
       "      <td>-0.003094</td>\n",
       "      <td>0.018855</td>\n",
       "      <td>0.048677</td>\n",
       "      <td>-0.004065</td>\n",
       "      <td>-0.014892</td>\n",
       "      <td>-0.025979</td>\n",
       "      <td>1.0</td>\n",
       "      <td>0.003094</td>\n",
       "      <td>1.0</td>\n",
       "      <td>0.003094</td>\n",
       "    </tr>\n",
       "    <tr>\n",
       "      <th>7</th>\n",
       "      <td>2000-01-12</td>\n",
       "      <td>6860.0</td>\n",
       "      <td>6946.5</td>\n",
       "      <td>6828.5</td>\n",
       "      <td>6938.0</td>\n",
       "      <td>50030</td>\n",
       "      <td>-0.000072</td>\n",
       "      <td>-0.003094</td>\n",
       "      <td>0.018855</td>\n",
       "      <td>0.048677</td>\n",
       "      <td>-0.004065</td>\n",
       "      <td>-0.014892</td>\n",
       "      <td>1.0</td>\n",
       "      <td>0.000072</td>\n",
       "      <td>1.0</td>\n",
       "      <td>0.000072</td>\n",
       "    </tr>\n",
       "    <tr>\n",
       "      <th>8</th>\n",
       "      <td>2000-01-13</td>\n",
       "      <td>6940.0</td>\n",
       "      <td>7145.0</td>\n",
       "      <td>6923.5</td>\n",
       "      <td>7009.0</td>\n",
       "      <td>67693</td>\n",
       "      <td>0.010181</td>\n",
       "      <td>-0.000072</td>\n",
       "      <td>-0.003094</td>\n",
       "      <td>0.018855</td>\n",
       "      <td>0.048677</td>\n",
       "      <td>-0.004065</td>\n",
       "      <td>1.0</td>\n",
       "      <td>0.010181</td>\n",
       "      <td>1.0</td>\n",
       "      <td>0.010181</td>\n",
       "    </tr>\n",
       "    <tr>\n",
       "      <th>9</th>\n",
       "      <td>2000-01-14</td>\n",
       "      <td>7053.0</td>\n",
       "      <td>7246.0</td>\n",
       "      <td>7053.0</td>\n",
       "      <td>7229.0</td>\n",
       "      <td>63855</td>\n",
       "      <td>0.030906</td>\n",
       "      <td>0.010181</td>\n",
       "      <td>-0.000072</td>\n",
       "      <td>-0.003094</td>\n",
       "      <td>0.018855</td>\n",
       "      <td>0.048677</td>\n",
       "      <td>-1.0</td>\n",
       "      <td>-0.030906</td>\n",
       "      <td>1.0</td>\n",
       "      <td>0.030906</td>\n",
       "    </tr>\n",
       "    <tr>\n",
       "      <th>10</th>\n",
       "      <td>2000-01-17</td>\n",
       "      <td>7264.5</td>\n",
       "      <td>7326.0</td>\n",
       "      <td>7146.5</td>\n",
       "      <td>7307.0</td>\n",
       "      <td>47015</td>\n",
       "      <td>0.010732</td>\n",
       "      <td>0.030906</td>\n",
       "      <td>0.010181</td>\n",
       "      <td>-0.000072</td>\n",
       "      <td>-0.003094</td>\n",
       "      <td>0.018855</td>\n",
       "      <td>1.0</td>\n",
       "      <td>0.010732</td>\n",
       "      <td>1.0</td>\n",
       "      <td>0.010732</td>\n",
       "    </tr>\n",
       "  </tbody>\n",
       "</table>\n",
       "</div>"
      ],
      "text/plain": [
       "         Date    Open    High     Low  Settle  Volume  log_return  \\\n",
       "6  2000-01-11  6945.0  6981.0  6861.0  6938.5   58944   -0.003094   \n",
       "7  2000-01-12  6860.0  6946.5  6828.5  6938.0   50030   -0.000072   \n",
       "8  2000-01-13  6940.0  7145.0  6923.5  7009.0   67693    0.010181   \n",
       "9  2000-01-14  7053.0  7246.0  7053.0  7229.0   63855    0.030906   \n",
       "10 2000-01-17  7264.5  7326.0  7146.5  7307.0   47015    0.010732   \n",
       "\n",
       "    lagged_return_1  lagged_return_2  lagged_return_3  lagged_return_4  \\\n",
       "6          0.018855         0.048677        -0.004065        -0.014892   \n",
       "7         -0.003094         0.018855         0.048677        -0.004065   \n",
       "8         -0.000072        -0.003094         0.018855         0.048677   \n",
       "9          0.010181        -0.000072        -0.003094         0.018855   \n",
       "10         0.030906         0.010181        -0.000072        -0.003094   \n",
       "\n",
       "    lagged_return_5  log_pred  logistic_return  svm_pred  svm_return  \n",
       "6         -0.025979       1.0         0.003094       1.0    0.003094  \n",
       "7         -0.014892       1.0         0.000072       1.0    0.000072  \n",
       "8         -0.004065       1.0         0.010181       1.0    0.010181  \n",
       "9          0.048677      -1.0        -0.030906       1.0    0.030906  \n",
       "10         0.018855       1.0         0.010732       1.0    0.010732  "
      ]
     },
     "execution_count": 6,
     "metadata": {},
     "output_type": "execute_result"
    }
   ],
   "source": [
    "data.model.head()"
   ]
  },
  {
   "cell_type": "code",
   "execution_count": 7,
   "metadata": {},
   "outputs": [
    {
     "ename": "ValueError",
     "evalue": "Found input variables with inconsistent numbers of samples: [3522, 5031]",
     "output_type": "error",
     "traceback": [
      "\u001b[0;31m---------------------------------------------------------------------------\u001b[0m",
      "\u001b[0;31mValueError\u001b[0m                                Traceback (most recent call last)",
      "\u001b[0;32m<ipython-input-7-f29ecad78fe3>\u001b[0m in \u001b[0;36m<module>\u001b[0;34m()\u001b[0m\n\u001b[0;32m----> 1\u001b[0;31m \u001b[0mclassification_report\u001b[0m\u001b[0;34m(\u001b[0m\u001b[0mlogit\u001b[0m\u001b[0;34m.\u001b[0m\u001b[0my_test\u001b[0m\u001b[0;34m,\u001b[0m \u001b[0mdata\u001b[0m\u001b[0;34m.\u001b[0m\u001b[0mmodel\u001b[0m\u001b[0;34m.\u001b[0m\u001b[0mlog_pred\u001b[0m\u001b[0;34m)\u001b[0m\u001b[0;34m\u001b[0m\u001b[0;34m\u001b[0m\u001b[0m\n\u001b[0m",
      "\u001b[0;32m~/.local/lib/python3.6/site-packages/sklearn/metrics/classification.py\u001b[0m in \u001b[0;36mclassification_report\u001b[0;34m(y_true, y_pred, labels, target_names, sample_weight, digits)\u001b[0m\n\u001b[1;32m   1444\u001b[0m                                                   \u001b[0mlabels\u001b[0m\u001b[0;34m=\u001b[0m\u001b[0mlabels\u001b[0m\u001b[0;34m,\u001b[0m\u001b[0;34m\u001b[0m\u001b[0;34m\u001b[0m\u001b[0m\n\u001b[1;32m   1445\u001b[0m                                                   \u001b[0maverage\u001b[0m\u001b[0;34m=\u001b[0m\u001b[0;32mNone\u001b[0m\u001b[0;34m,\u001b[0m\u001b[0;34m\u001b[0m\u001b[0;34m\u001b[0m\u001b[0m\n\u001b[0;32m-> 1446\u001b[0;31m                                                   sample_weight=sample_weight)\n\u001b[0m\u001b[1;32m   1447\u001b[0m \u001b[0;34m\u001b[0m\u001b[0m\n\u001b[1;32m   1448\u001b[0m     \u001b[0mrow_fmt\u001b[0m \u001b[0;34m=\u001b[0m \u001b[0;34mu'{:>{width}s} '\u001b[0m \u001b[0;34m+\u001b[0m \u001b[0;34mu' {:>9.{digits}f}'\u001b[0m \u001b[0;34m*\u001b[0m \u001b[0;36m3\u001b[0m \u001b[0;34m+\u001b[0m \u001b[0;34mu' {:>9}\\n'\u001b[0m\u001b[0;34m\u001b[0m\u001b[0;34m\u001b[0m\u001b[0m\n",
      "\u001b[0;32m~/.local/lib/python3.6/site-packages/sklearn/metrics/classification.py\u001b[0m in \u001b[0;36mprecision_recall_fscore_support\u001b[0;34m(y_true, y_pred, beta, labels, pos_label, average, warn_for, sample_weight)\u001b[0m\n\u001b[1;32m   1023\u001b[0m         \u001b[0;32mraise\u001b[0m \u001b[0mValueError\u001b[0m\u001b[0;34m(\u001b[0m\u001b[0;34m\"beta should be >0 in the F-beta score\"\u001b[0m\u001b[0;34m)\u001b[0m\u001b[0;34m\u001b[0m\u001b[0;34m\u001b[0m\u001b[0m\n\u001b[1;32m   1024\u001b[0m \u001b[0;34m\u001b[0m\u001b[0m\n\u001b[0;32m-> 1025\u001b[0;31m     \u001b[0my_type\u001b[0m\u001b[0;34m,\u001b[0m \u001b[0my_true\u001b[0m\u001b[0;34m,\u001b[0m \u001b[0my_pred\u001b[0m \u001b[0;34m=\u001b[0m \u001b[0m_check_targets\u001b[0m\u001b[0;34m(\u001b[0m\u001b[0my_true\u001b[0m\u001b[0;34m,\u001b[0m \u001b[0my_pred\u001b[0m\u001b[0;34m)\u001b[0m\u001b[0;34m\u001b[0m\u001b[0;34m\u001b[0m\u001b[0m\n\u001b[0m\u001b[1;32m   1026\u001b[0m     \u001b[0mpresent_labels\u001b[0m \u001b[0;34m=\u001b[0m \u001b[0munique_labels\u001b[0m\u001b[0;34m(\u001b[0m\u001b[0my_true\u001b[0m\u001b[0;34m,\u001b[0m \u001b[0my_pred\u001b[0m\u001b[0;34m)\u001b[0m\u001b[0;34m\u001b[0m\u001b[0;34m\u001b[0m\u001b[0m\n\u001b[1;32m   1027\u001b[0m \u001b[0;34m\u001b[0m\u001b[0m\n",
      "\u001b[0;32m~/.local/lib/python3.6/site-packages/sklearn/metrics/classification.py\u001b[0m in \u001b[0;36m_check_targets\u001b[0;34m(y_true, y_pred)\u001b[0m\n\u001b[1;32m     69\u001b[0m     \u001b[0my_pred\u001b[0m \u001b[0;34m:\u001b[0m \u001b[0marray\u001b[0m \u001b[0;32mor\u001b[0m \u001b[0mindicator\u001b[0m \u001b[0mmatrix\u001b[0m\u001b[0;34m\u001b[0m\u001b[0;34m\u001b[0m\u001b[0m\n\u001b[1;32m     70\u001b[0m     \"\"\"\n\u001b[0;32m---> 71\u001b[0;31m     \u001b[0mcheck_consistent_length\u001b[0m\u001b[0;34m(\u001b[0m\u001b[0my_true\u001b[0m\u001b[0;34m,\u001b[0m \u001b[0my_pred\u001b[0m\u001b[0;34m)\u001b[0m\u001b[0;34m\u001b[0m\u001b[0;34m\u001b[0m\u001b[0m\n\u001b[0m\u001b[1;32m     72\u001b[0m     \u001b[0mtype_true\u001b[0m \u001b[0;34m=\u001b[0m \u001b[0mtype_of_target\u001b[0m\u001b[0;34m(\u001b[0m\u001b[0my_true\u001b[0m\u001b[0;34m)\u001b[0m\u001b[0;34m\u001b[0m\u001b[0;34m\u001b[0m\u001b[0m\n\u001b[1;32m     73\u001b[0m     \u001b[0mtype_pred\u001b[0m \u001b[0;34m=\u001b[0m \u001b[0mtype_of_target\u001b[0m\u001b[0;34m(\u001b[0m\u001b[0my_pred\u001b[0m\u001b[0;34m)\u001b[0m\u001b[0;34m\u001b[0m\u001b[0;34m\u001b[0m\u001b[0m\n",
      "\u001b[0;32m~/.local/lib/python3.6/site-packages/sklearn/utils/validation.py\u001b[0m in \u001b[0;36mcheck_consistent_length\u001b[0;34m(*arrays)\u001b[0m\n\u001b[1;32m    202\u001b[0m     \u001b[0;32mif\u001b[0m \u001b[0mlen\u001b[0m\u001b[0;34m(\u001b[0m\u001b[0muniques\u001b[0m\u001b[0;34m)\u001b[0m \u001b[0;34m>\u001b[0m \u001b[0;36m1\u001b[0m\u001b[0;34m:\u001b[0m\u001b[0;34m\u001b[0m\u001b[0;34m\u001b[0m\u001b[0m\n\u001b[1;32m    203\u001b[0m         raise ValueError(\"Found input variables with inconsistent numbers of\"\n\u001b[0;32m--> 204\u001b[0;31m                          \" samples: %r\" % [int(l) for l in lengths])\n\u001b[0m\u001b[1;32m    205\u001b[0m \u001b[0;34m\u001b[0m\u001b[0m\n\u001b[1;32m    206\u001b[0m \u001b[0;34m\u001b[0m\u001b[0m\n",
      "\u001b[0;31mValueError\u001b[0m: Found input variables with inconsistent numbers of samples: [3522, 5031]"
     ]
    }
   ],
   "source": [
    "classification_report(logit.y_test, data.model.log_pred)"
   ]
  },
  {
   "cell_type": "code",
   "execution_count": null,
   "metadata": {},
   "outputs": [],
   "source": []
  }
 ],
 "metadata": {
  "kernelspec": {
   "display_name": "Python 3",
   "language": "python",
   "name": "python3"
  },
  "language_info": {
   "codemirror_mode": {
    "name": "ipython",
    "version": 3
   },
   "file_extension": ".py",
   "mimetype": "text/x-python",
   "name": "python",
   "nbconvert_exporter": "python",
   "pygments_lexer": "ipython3",
   "version": "3.6.8"
  },
  "varInspector": {
   "cols": {
    "lenName": 16,
    "lenType": 16,
    "lenVar": 40
   },
   "kernels_config": {
    "python": {
     "delete_cmd_postfix": "",
     "delete_cmd_prefix": "del ",
     "library": "var_list.py",
     "varRefreshCmd": "print(var_dic_list())"
    },
    "r": {
     "delete_cmd_postfix": ") ",
     "delete_cmd_prefix": "rm(",
     "library": "var_list.r",
     "varRefreshCmd": "cat(var_dic_list()) "
    }
   },
   "position": {
    "height": "144.85px",
    "left": "761px",
    "right": "20px",
    "top": "135px",
    "width": "350px"
   },
   "types_to_exclude": [
    "module",
    "function",
    "builtin_function_or_method",
    "instance",
    "_Feature"
   ],
   "window_display": false
  }
 },
 "nbformat": 4,
 "nbformat_minor": 2
}
