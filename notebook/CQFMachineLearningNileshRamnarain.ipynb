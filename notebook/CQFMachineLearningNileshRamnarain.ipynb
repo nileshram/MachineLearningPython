{
 "cells": [
  {
   "cell_type": "markdown",
   "metadata": {},
   "source": [
    "## CQF Exam 3 - Machine Learning & Market Return Directional Prediction "
   ]
  },
  {
   "cell_type": "code",
   "execution_count": 1,
   "metadata": {},
   "outputs": [],
   "source": [
    "#Import project modules"
   ]
  },
  {
   "cell_type": "code",
   "execution_count": 6,
   "metadata": {
    "scrolled": true,
    "tags": [
     "hidecode"
    ]
   },
   "outputs": [
    {
     "name": "stdout",
     "output_type": "stream",
     "text": [
      "/home/nilesh/workspace/CQFMachineLearning\n"
     ]
    }
   ],
   "source": [
    "import project_path\n",
    "import logging.config\n",
    "import os\n",
    "import json\n",
    "#import graph library\n",
    "from graph.graphlib import GraphLib\n",
    "#import datamodel\n",
    "from model.datamodel import DataModel\n",
    "#import ml-classifiers\n",
    "from ml.classifiers import LogisticalRegression, SupportVectorMachine, ANN\n",
    "%cd /home/nilesh/workspace/CQFMachineLearning/\n",
    "%matplotlib inline"
   ]
  },
  {
   "cell_type": "code",
   "execution_count": 7,
   "metadata": {},
   "outputs": [],
   "source": [
    "from main import ConfigurationFactory"
   ]
  },
  {
   "cell_type": "markdown",
   "metadata": {},
   "source": [
    "### Initialise Data Model and Log Configurations"
   ]
  },
  {
   "cell_type": "code",
   "execution_count": 8,
   "metadata": {},
   "outputs": [
    {
     "name": "stdout",
     "output_type": "stream",
     "text": [
      "20191201 04:09:07 - INFO : Initialising Program For CQF Exam 3 Machine Learning with Python\n"
     ]
    },
    {
     "name": "stderr",
     "output_type": "stream",
     "text": [
      "INFO:cqf_logger:Initialising Program For CQF Exam 3 Machine Learning with Python\n"
     ]
    }
   ],
   "source": [
    "#initialise global Logging Configuration\n",
    "ConfigurationFactory._configure_log()\n",
    "log = logging.getLogger(\"cqf_logger\")\n",
    "log.info(\"Initialising Program For CQF Exam 3 Machine Learning with Python\")\n",
    "\n",
    "\n",
    "#initialise Data Model\n",
    "dax_data = DataModel(filename=\"dax.csv\")\n",
    "es_50_data = DataModel(filename=\"eurostoxx.csv\")"
   ]
  },
  {
   "cell_type": "code",
   "execution_count": null,
   "metadata": {},
   "outputs": [],
   "source": [
    "#Display DAX datamodel\n",
    "dax_data.model.head()"
   ]
  },
  {
   "cell_type": "code",
   "execution_count": null,
   "metadata": {},
   "outputs": [],
   "source": [
    "#Display ESTOXX 50 datamodel\n",
    "es_50_data.model.head()"
   ]
  },
  {
   "cell_type": "code",
   "execution_count": null,
   "metadata": {},
   "outputs": [],
   "source": [
    "#run regression\n",
    "logit = LogisticalRegression()\n",
    "logit.run_classifier(dax_data)\n",
    "logit2 = LogisticalRegression()\n",
    "logit2.run_classifier(es_50_data)"
   ]
  },
  {
   "cell_type": "code",
   "execution_count": null,
   "metadata": {},
   "outputs": [],
   "source": [
    "print(dax_data.pred_prob)\n",
    "print(dax_data.y_pred_prob_test)\n",
    "print(es_50_data.pred_prob)\n",
    "print(es_50_data.y_pred_prob_test)"
   ]
  },
  {
   "cell_type": "code",
   "execution_count": null,
   "metadata": {},
   "outputs": [],
   "source": [
    "print(max(dax_data.pred_prob[:, 1]))\n",
    "print(min(dax_data.pred_prob[:, 1]))\n",
    "print(max(dax_data.y_pred_prob_test))\n",
    "print(min(dax_data.y_pred_prob_test))\n",
    "\n",
    "print(max(es_50_data.pred_prob[:, 1]))\n",
    "print(min(es_50_data.pred_prob[:, 1]))\n",
    "print(max(es_50_data.y_pred_prob_test))\n",
    "print(min(es_50_data.y_pred_prob_test))"
   ]
  },
  {
   "cell_type": "code",
   "execution_count": null,
   "metadata": {},
   "outputs": [],
   "source": [
    "dax_data.pred_prob[:, 1]"
   ]
  },
  {
   "cell_type": "code",
   "execution_count": null,
   "metadata": {},
   "outputs": [],
   "source": []
  },
  {
   "cell_type": "code",
   "execution_count": null,
   "metadata": {},
   "outputs": [],
   "source": []
  },
  {
   "cell_type": "code",
   "execution_count": null,
   "metadata": {},
   "outputs": [],
   "source": []
  },
  {
   "cell_type": "code",
   "execution_count": null,
   "metadata": {},
   "outputs": [],
   "source": []
  },
  {
   "cell_type": "code",
   "execution_count": null,
   "metadata": {},
   "outputs": [],
   "source": [
    "print(min(dax_data.y_pred_prob_test))"
   ]
  },
  {
   "cell_type": "code",
   "execution_count": null,
   "metadata": {},
   "outputs": [],
   "source": []
  }
 ],
 "metadata": {
  "kernelspec": {
   "display_name": "Python 3",
   "language": "python",
   "name": "python3"
  },
  "language_info": {
   "codemirror_mode": {
    "name": "ipython",
    "version": 3
   },
   "file_extension": ".py",
   "mimetype": "text/x-python",
   "name": "python",
   "nbconvert_exporter": "python",
   "pygments_lexer": "ipython3",
   "version": "3.6.8"
  },
  "varInspector": {
   "cols": {
    "lenName": 16,
    "lenType": 16,
    "lenVar": 40
   },
   "kernels_config": {
    "python": {
     "delete_cmd_postfix": "",
     "delete_cmd_prefix": "del ",
     "library": "var_list.py",
     "varRefreshCmd": "print(var_dic_list())"
    },
    "r": {
     "delete_cmd_postfix": ") ",
     "delete_cmd_prefix": "rm(",
     "library": "var_list.r",
     "varRefreshCmd": "cat(var_dic_list()) "
    }
   },
   "position": {
    "height": "144.85px",
    "left": "761px",
    "right": "20px",
    "top": "135px",
    "width": "350px"
   },
   "types_to_exclude": [
    "module",
    "function",
    "builtin_function_or_method",
    "instance",
    "_Feature"
   ],
   "window_display": false
  }
 },
 "nbformat": 4,
 "nbformat_minor": 2
}
