{
 "cells": [
  {
   "cell_type": "markdown",
   "metadata": {},
   "source": [
    "## CQF Exam 3 - Machine Learning & Market Return Directional Prediction "
   ]
  },
  {
   "cell_type": "code",
   "execution_count": 1,
   "metadata": {},
   "outputs": [],
   "source": [
    "#Import project modules"
   ]
  },
  {
   "cell_type": "code",
   "execution_count": 2,
   "metadata": {
    "scrolled": true,
    "tags": [
     "hidecode"
    ]
   },
   "outputs": [
    {
     "name": "stdout",
     "output_type": "stream",
     "text": [
      "/home/nilesh/workspace/CQFMachineLearning\n"
     ]
    }
   ],
   "source": [
    "import project_path\n",
    "import logging.config\n",
    "import os\n",
    "import json\n",
    "#import graph library\n",
    "from graph.graphlib import GraphLib\n",
    "#import datamodel\n",
    "from model.datamodel import DataModel\n",
    "#import ml-classifiers\n",
    "from ml.classifiers import LogisticalRegression, SupportVectorMachine, ANN\n",
    "%cd /home/nilesh/workspace/CQFMachineLearning/\n",
    "%matplotlib inline"
   ]
  },
  {
   "cell_type": "code",
   "execution_count": 3,
   "metadata": {},
   "outputs": [],
   "source": [
    "from main import ConfigurationFactory"
   ]
  },
  {
   "cell_type": "markdown",
   "metadata": {},
   "source": [
    "### Initialise Data Model and Log Configurations"
   ]
  },
  {
   "cell_type": "code",
   "execution_count": 4,
   "metadata": {},
   "outputs": [
    {
     "name": "stdout",
     "output_type": "stream",
     "text": [
      "20191112 14:25:06 - INFO : Initialising Program For CQF Exam 3 Machine Learning with Python\n"
     ]
    }
   ],
   "source": [
    "#initialise global Logging Configuration\n",
    "ConfigurationFactory._configure_log()\n",
    "log = logging.getLogger(\"cqf_logger\")\n",
    "log.info(\"Initialising Program For CQF Exam 3 Machine Learning with Python\")\n",
    "\n",
    "\n",
    "#initialise Data Model\n",
    "dax_data = DataModel(filename=\"dax.csv\")\n",
    "es_50_data = DataModel(filename=\"eurostoxx.csv\")"
   ]
  },
  {
   "cell_type": "code",
   "execution_count": 5,
   "metadata": {},
   "outputs": [
    {
     "data": {
      "text/html": [
       "<div>\n",
       "<style scoped>\n",
       "    .dataframe tbody tr th:only-of-type {\n",
       "        vertical-align: middle;\n",
       "    }\n",
       "\n",
       "    .dataframe tbody tr th {\n",
       "        vertical-align: top;\n",
       "    }\n",
       "\n",
       "    .dataframe thead th {\n",
       "        text-align: right;\n",
       "    }\n",
       "</style>\n",
       "<table border=\"1\" class=\"dataframe\">\n",
       "  <thead>\n",
       "    <tr style=\"text-align: right;\">\n",
       "      <th></th>\n",
       "      <th>Date</th>\n",
       "      <th>Open</th>\n",
       "      <th>High</th>\n",
       "      <th>Low</th>\n",
       "      <th>Settle</th>\n",
       "      <th>Volume</th>\n",
       "      <th>log_return</th>\n",
       "      <th>log_return_sign</th>\n",
       "      <th>lagged_return_1</th>\n",
       "      <th>lagged_return_2</th>\n",
       "      <th>lagged_return_3</th>\n",
       "      <th>lagged_return_4</th>\n",
       "      <th>lagged_return_5</th>\n",
       "    </tr>\n",
       "  </thead>\n",
       "  <tbody>\n",
       "    <tr>\n",
       "      <th>6</th>\n",
       "      <td>2000-01-11</td>\n",
       "      <td>6945.0</td>\n",
       "      <td>6981.0</td>\n",
       "      <td>6861.0</td>\n",
       "      <td>6938.5</td>\n",
       "      <td>58944</td>\n",
       "      <td>-0.003094</td>\n",
       "      <td>-1.0</td>\n",
       "      <td>0.018855</td>\n",
       "      <td>0.048677</td>\n",
       "      <td>-0.004065</td>\n",
       "      <td>-0.014892</td>\n",
       "      <td>-0.025979</td>\n",
       "    </tr>\n",
       "    <tr>\n",
       "      <th>7</th>\n",
       "      <td>2000-01-12</td>\n",
       "      <td>6860.0</td>\n",
       "      <td>6946.5</td>\n",
       "      <td>6828.5</td>\n",
       "      <td>6938.0</td>\n",
       "      <td>50030</td>\n",
       "      <td>-0.000072</td>\n",
       "      <td>-1.0</td>\n",
       "      <td>-0.003094</td>\n",
       "      <td>0.018855</td>\n",
       "      <td>0.048677</td>\n",
       "      <td>-0.004065</td>\n",
       "      <td>-0.014892</td>\n",
       "    </tr>\n",
       "    <tr>\n",
       "      <th>8</th>\n",
       "      <td>2000-01-13</td>\n",
       "      <td>6940.0</td>\n",
       "      <td>7145.0</td>\n",
       "      <td>6923.5</td>\n",
       "      <td>7009.0</td>\n",
       "      <td>67693</td>\n",
       "      <td>0.010181</td>\n",
       "      <td>1.0</td>\n",
       "      <td>-0.000072</td>\n",
       "      <td>-0.003094</td>\n",
       "      <td>0.018855</td>\n",
       "      <td>0.048677</td>\n",
       "      <td>-0.004065</td>\n",
       "    </tr>\n",
       "    <tr>\n",
       "      <th>9</th>\n",
       "      <td>2000-01-14</td>\n",
       "      <td>7053.0</td>\n",
       "      <td>7246.0</td>\n",
       "      <td>7053.0</td>\n",
       "      <td>7229.0</td>\n",
       "      <td>63855</td>\n",
       "      <td>0.030906</td>\n",
       "      <td>1.0</td>\n",
       "      <td>0.010181</td>\n",
       "      <td>-0.000072</td>\n",
       "      <td>-0.003094</td>\n",
       "      <td>0.018855</td>\n",
       "      <td>0.048677</td>\n",
       "    </tr>\n",
       "    <tr>\n",
       "      <th>10</th>\n",
       "      <td>2000-01-17</td>\n",
       "      <td>7264.5</td>\n",
       "      <td>7326.0</td>\n",
       "      <td>7146.5</td>\n",
       "      <td>7307.0</td>\n",
       "      <td>47015</td>\n",
       "      <td>0.010732</td>\n",
       "      <td>1.0</td>\n",
       "      <td>0.030906</td>\n",
       "      <td>0.010181</td>\n",
       "      <td>-0.000072</td>\n",
       "      <td>-0.003094</td>\n",
       "      <td>0.018855</td>\n",
       "    </tr>\n",
       "  </tbody>\n",
       "</table>\n",
       "</div>"
      ],
      "text/plain": [
       "         Date    Open    High     Low  Settle  Volume  log_return  \\\n",
       "6  2000-01-11  6945.0  6981.0  6861.0  6938.5   58944   -0.003094   \n",
       "7  2000-01-12  6860.0  6946.5  6828.5  6938.0   50030   -0.000072   \n",
       "8  2000-01-13  6940.0  7145.0  6923.5  7009.0   67693    0.010181   \n",
       "9  2000-01-14  7053.0  7246.0  7053.0  7229.0   63855    0.030906   \n",
       "10 2000-01-17  7264.5  7326.0  7146.5  7307.0   47015    0.010732   \n",
       "\n",
       "    log_return_sign  lagged_return_1  lagged_return_2  lagged_return_3  \\\n",
       "6              -1.0         0.018855         0.048677        -0.004065   \n",
       "7              -1.0        -0.003094         0.018855         0.048677   \n",
       "8               1.0        -0.000072        -0.003094         0.018855   \n",
       "9               1.0         0.010181        -0.000072        -0.003094   \n",
       "10              1.0         0.030906         0.010181        -0.000072   \n",
       "\n",
       "    lagged_return_4  lagged_return_5  \n",
       "6         -0.014892        -0.025979  \n",
       "7         -0.004065        -0.014892  \n",
       "8          0.048677        -0.004065  \n",
       "9          0.018855         0.048677  \n",
       "10        -0.003094         0.018855  "
      ]
     },
     "execution_count": 5,
     "metadata": {},
     "output_type": "execute_result"
    }
   ],
   "source": [
    "#Display DAX datamodel\n",
    "dax_data.model.head()"
   ]
  },
  {
   "cell_type": "code",
   "execution_count": 6,
   "metadata": {},
   "outputs": [
    {
     "data": {
      "text/html": [
       "<div>\n",
       "<style scoped>\n",
       "    .dataframe tbody tr th:only-of-type {\n",
       "        vertical-align: middle;\n",
       "    }\n",
       "\n",
       "    .dataframe tbody tr th {\n",
       "        vertical-align: top;\n",
       "    }\n",
       "\n",
       "    .dataframe thead th {\n",
       "        text-align: right;\n",
       "    }\n",
       "</style>\n",
       "<table border=\"1\" class=\"dataframe\">\n",
       "  <thead>\n",
       "    <tr style=\"text-align: right;\">\n",
       "      <th></th>\n",
       "      <th>Date</th>\n",
       "      <th>Open</th>\n",
       "      <th>High</th>\n",
       "      <th>Low</th>\n",
       "      <th>Settle</th>\n",
       "      <th>Volume</th>\n",
       "      <th>log_return</th>\n",
       "      <th>log_return_sign</th>\n",
       "      <th>lagged_return_1</th>\n",
       "      <th>lagged_return_2</th>\n",
       "      <th>lagged_return_3</th>\n",
       "      <th>lagged_return_4</th>\n",
       "      <th>lagged_return_5</th>\n",
       "    </tr>\n",
       "  </thead>\n",
       "  <tbody>\n",
       "    <tr>\n",
       "      <th>6</th>\n",
       "      <td>2000-01-11</td>\n",
       "      <td>4752</td>\n",
       "      <td>4759</td>\n",
       "      <td>4655</td>\n",
       "      <td>4708.0</td>\n",
       "      <td>21379</td>\n",
       "      <td>-0.008250</td>\n",
       "      <td>-1.0</td>\n",
       "      <td>0.013360</td>\n",
       "      <td>0.032327</td>\n",
       "      <td>-0.005936</td>\n",
       "      <td>-0.023826</td>\n",
       "      <td>-0.039863</td>\n",
       "    </tr>\n",
       "    <tr>\n",
       "      <th>7</th>\n",
       "      <td>2000-01-12</td>\n",
       "      <td>4661</td>\n",
       "      <td>4677</td>\n",
       "      <td>4618</td>\n",
       "      <td>4664.0</td>\n",
       "      <td>33596</td>\n",
       "      <td>-0.009390</td>\n",
       "      <td>-1.0</td>\n",
       "      <td>-0.008250</td>\n",
       "      <td>0.013360</td>\n",
       "      <td>0.032327</td>\n",
       "      <td>-0.005936</td>\n",
       "      <td>-0.023826</td>\n",
       "    </tr>\n",
       "    <tr>\n",
       "      <th>8</th>\n",
       "      <td>2000-01-13</td>\n",
       "      <td>4658</td>\n",
       "      <td>4780</td>\n",
       "      <td>4658</td>\n",
       "      <td>4711.0</td>\n",
       "      <td>27320</td>\n",
       "      <td>0.010027</td>\n",
       "      <td>1.0</td>\n",
       "      <td>-0.009390</td>\n",
       "      <td>-0.008250</td>\n",
       "      <td>0.013360</td>\n",
       "      <td>0.032327</td>\n",
       "      <td>-0.005936</td>\n",
       "    </tr>\n",
       "    <tr>\n",
       "      <th>9</th>\n",
       "      <td>2000-01-14</td>\n",
       "      <td>4750</td>\n",
       "      <td>4899</td>\n",
       "      <td>4750</td>\n",
       "      <td>4897.0</td>\n",
       "      <td>40770</td>\n",
       "      <td>0.038723</td>\n",
       "      <td>1.0</td>\n",
       "      <td>0.010027</td>\n",
       "      <td>-0.009390</td>\n",
       "      <td>-0.008250</td>\n",
       "      <td>0.013360</td>\n",
       "      <td>0.032327</td>\n",
       "    </tr>\n",
       "    <tr>\n",
       "      <th>10</th>\n",
       "      <td>2000-01-17</td>\n",
       "      <td>4920</td>\n",
       "      <td>4932</td>\n",
       "      <td>4833</td>\n",
       "      <td>4927.0</td>\n",
       "      <td>30413</td>\n",
       "      <td>0.006108</td>\n",
       "      <td>1.0</td>\n",
       "      <td>0.038723</td>\n",
       "      <td>0.010027</td>\n",
       "      <td>-0.009390</td>\n",
       "      <td>-0.008250</td>\n",
       "      <td>0.013360</td>\n",
       "    </tr>\n",
       "  </tbody>\n",
       "</table>\n",
       "</div>"
      ],
      "text/plain": [
       "         Date  Open  High   Low  Settle  Volume  log_return  log_return_sign  \\\n",
       "6  2000-01-11  4752  4759  4655  4708.0   21379   -0.008250             -1.0   \n",
       "7  2000-01-12  4661  4677  4618  4664.0   33596   -0.009390             -1.0   \n",
       "8  2000-01-13  4658  4780  4658  4711.0   27320    0.010027              1.0   \n",
       "9  2000-01-14  4750  4899  4750  4897.0   40770    0.038723              1.0   \n",
       "10 2000-01-17  4920  4932  4833  4927.0   30413    0.006108              1.0   \n",
       "\n",
       "    lagged_return_1  lagged_return_2  lagged_return_3  lagged_return_4  \\\n",
       "6          0.013360         0.032327        -0.005936        -0.023826   \n",
       "7         -0.008250         0.013360         0.032327        -0.005936   \n",
       "8         -0.009390        -0.008250         0.013360         0.032327   \n",
       "9          0.010027        -0.009390        -0.008250         0.013360   \n",
       "10         0.038723         0.010027        -0.009390        -0.008250   \n",
       "\n",
       "    lagged_return_5  \n",
       "6         -0.039863  \n",
       "7         -0.023826  \n",
       "8         -0.005936  \n",
       "9          0.032327  \n",
       "10         0.013360  "
      ]
     },
     "execution_count": 6,
     "metadata": {},
     "output_type": "execute_result"
    }
   ],
   "source": [
    "#Display ESTOXX 50 datamodel\n",
    "es_50_data.model.head()"
   ]
  },
  {
   "cell_type": "code",
   "execution_count": 7,
   "metadata": {},
   "outputs": [
    {
     "name": "stdout",
     "output_type": "stream",
     "text": [
      "20191112 14:25:07 - INFO : Running Logisitical Regression Classifier\n",
      "20191112 14:25:07 - INFO : Fitting model against specified parameters\n",
      "20191112 14:25:07 - INFO : Running Logistical Regression Prediction\n",
      "20191112 14:25:07 - INFO : Logistic Return Prediction Data Summary:  1.0    4876\n",
      "-1.0     155\n",
      "Name: log_pred, dtype: int64\n",
      "20191112 14:25:07 - INFO : Finished test train with split: 0.4\n",
      "20191112 14:25:07 - INFO : Computing predicted probabilities on svm_test set of data\n",
      "20191112 14:25:07 - INFO : ROC AUC Test Data Score: 0.4875407392686804\n",
      "20191112 14:25:07 - INFO : Computing predicted probabilities on population data\n",
      "20191112 14:25:07 - INFO : ROC AUC Population Data Score: 1.0\n",
      "20191112 14:25:07 - INFO : Running through various strength values C\n",
      "20191112 14:25:07 - INFO : C: 1000000\n",
      "20191112 14:25:07 - INFO : Coefficient of each feature: [[ 1.37564056 -0.58944272 -1.77948577  2.99157035 -4.67661311]]\n",
      "20191112 14:25:07 - INFO : Training accuracy: 0.5182239893969516\n",
      "20191112 14:25:07 - INFO : Test accuracy: 0.4793840039741679\n",
      "20191112 14:25:07 - INFO : C: 100000\n",
      "20191112 14:25:07 - INFO : Coefficient of each feature: [[ 1.37556609 -0.58941294 -1.77940071  2.99143263 -4.67639457]]\n",
      "20191112 14:25:07 - INFO : Training accuracy: 0.5182239893969516\n",
      "20191112 14:25:07 - INFO : Test accuracy: 0.4793840039741679\n",
      "20191112 14:25:07 - INFO : C: 10000\n",
      "20191112 14:25:07 - INFO : Coefficient of each feature: [[ 1.37482184 -0.58911538 -1.77855056  2.99005615 -4.67421033]]\n",
      "20191112 14:25:07 - INFO : Training accuracy: 0.5182239893969516\n",
      "20191112 14:25:07 - INFO : Test accuracy: 0.4793840039741679\n",
      "20191112 14:25:07 - INFO : C: 1000\n",
      "20191112 14:25:07 - INFO : Coefficient of each feature: [[ 1.36742302 -0.58615634 -1.77009402  2.97636196 -4.65248143]]\n",
      "20191112 14:25:07 - INFO : Training accuracy: 0.5182239893969516\n",
      "20191112 14:25:07 - INFO : Test accuracy: 0.4793840039741679\n",
      "20191112 14:25:07 - INFO : C: 100\n",
      "20191112 14:25:07 - INFO : Coefficient of each feature: [[ 1.29755414 -0.55814059 -1.68979378  2.84612636 -4.4459642 ]]\n",
      "20191112 14:25:07 - INFO : Training accuracy: 0.5182239893969516\n",
      "20191112 14:25:07 - INFO : Test accuracy: 0.47888723298559366\n",
      "20191112 14:25:07 - INFO : C: 10\n",
      "20191112 14:25:07 - INFO : Coefficient of each feature: [[ 0.85726354 -0.37807581 -1.16358697  1.98303008 -3.08355913]]\n",
      "20191112 14:25:07 - INFO : Training accuracy: 0.5188866799204771\n",
      "20191112 14:25:07 - INFO : Test accuracy: 0.4808743169398907\n",
      "20191112 14:25:07 - INFO : C: 1\n",
      "20191112 14:25:07 - INFO : Coefficient of each feature: [[ 0.19290269 -0.08959306 -0.28351769  0.49421366 -0.76176193]]\n",
      "20191112 14:25:07 - INFO : Training accuracy: 0.5182239893969516\n",
      "20191112 14:25:07 - INFO : Test accuracy: 0.49230004967709884\n",
      "20191112 14:25:07 - INFO : C: 0.1\n",
      "20191112 14:25:07 - INFO : Coefficient of each feature: [[ 0.02193627 -0.01037698 -0.03310487  0.05813907 -0.08937271]]\n",
      "20191112 14:25:07 - INFO : Training accuracy: 0.5278330019880716\n",
      "20191112 14:25:07 - INFO : Test accuracy: 0.5444610034773969\n",
      "20191112 14:25:07 - INFO : C: 0.001\n",
      "20191112 14:25:07 - INFO : Coefficient of each feature: [[ 0.00022134 -0.00010659 -0.0003382   0.0005914  -0.00091282]]\n",
      "20191112 14:25:07 - INFO : Training accuracy: 0.5208747514910537\n",
      "20191112 14:25:07 - INFO : Test accuracy: 0.5404868355688028\n",
      "20191112 14:25:07 - INFO : Computed predicted probabilities as follows: [[0.44634408 0.55365592]\n",
      " [0.463002   0.536998  ]\n",
      " [0.46950724 0.53049276]\n",
      " ...\n",
      " [0.46867095 0.53132905]\n",
      " [0.48071108 0.51928892]\n",
      " [0.47221671 0.52778329]]\n",
      "20191112 14:25:07 - INFO : Finished running through classifier\n",
      "20191112 14:25:07 - INFO : Running Logisitical Regression Classifier\n",
      "20191112 14:25:07 - INFO : Fitting model against specified parameters\n",
      "20191112 14:25:07 - INFO : Running Logistical Regression Prediction\n",
      "20191112 14:25:07 - INFO : Logistic Return Prediction Data Summary:  1.0    3248\n",
      "-1.0    1792\n",
      "Name: log_pred, dtype: int64\n",
      "20191112 14:25:07 - INFO : Finished test train with split: 0.4\n",
      "20191112 14:25:07 - INFO : Computing predicted probabilities on svm_test set of data\n",
      "20191112 14:25:07 - INFO : ROC AUC Test Data Score: 0.5167560268869134\n",
      "20191112 14:25:07 - INFO : Computing predicted probabilities on population data\n",
      "20191112 14:25:07 - INFO : ROC AUC Population Data Score: 1.0\n",
      "20191112 14:25:07 - INFO : Running through various strength values C\n",
      "20191112 14:25:07 - INFO : C: 1000000\n",
      "20191112 14:25:07 - INFO : Coefficient of each feature: [[-5.24135977 -6.66113129 -2.25015266  0.84837502 -2.2134149 ]]\n",
      "20191112 14:25:07 - INFO : Training accuracy: 0.5287698412698413\n",
      "20191112 14:25:07 - INFO : Test accuracy: 0.5079365079365079\n",
      "20191112 14:25:07 - INFO : C: 100000\n",
      "20191112 14:25:07 - INFO : Coefficient of each feature: [[-5.24110855 -6.66081183 -2.25001528  0.84838188 -2.21330134]]\n",
      "20191112 14:25:07 - INFO : Training accuracy: 0.5287698412698413\n",
      "20191112 14:25:07 - INFO : Test accuracy: 0.5079365079365079\n",
      "20191112 14:25:07 - INFO : C: 10000\n",
      "20191112 14:25:07 - INFO : Coefficient of each feature: [[-5.23859766 -6.65761902 -2.24864237  0.84845017 -2.21216639]]\n",
      "20191112 14:25:07 - INFO : Training accuracy: 0.5287698412698413\n",
      "20191112 14:25:07 - INFO : Test accuracy: 0.5079365079365079\n",
      "20191112 14:25:07 - INFO : C: 1000\n",
      "20191112 14:25:07 - INFO : Coefficient of each feature: [[-5.21362692 -6.62586593 -2.23500303  0.84910646 -2.20088437]]\n",
      "20191112 14:25:07 - INFO : Training accuracy: 0.5284391534391535\n",
      "20191112 14:25:07 - INFO : Test accuracy: 0.5079365079365079\n",
      "20191112 14:25:07 - INFO : C: 100\n",
      "20191112 14:25:07 - INFO : Coefficient of each feature: [[-4.97696621 -6.32488085 -2.10702696  0.85325086 -2.09441366]]\n",
      "20191112 14:25:07 - INFO : Training accuracy: 0.5281084656084656\n",
      "20191112 14:25:07 - INFO : Test accuracy: 0.5079365079365079\n",
      "20191112 14:25:07 - INFO : C: 10\n",
      "20191112 14:25:07 - INFO : Coefficient of each feature: [[-3.43912582 -4.3678066  -1.33406464  0.78554735 -1.42124215]]\n",
      "20191112 14:25:07 - INFO : Training accuracy: 0.5304232804232805\n",
      "20191112 14:25:07 - INFO : Test accuracy: 0.5064484126984127\n",
      "20191112 14:25:07 - INFO : C: 1\n",
      "20191112 14:25:07 - INFO : Coefficient of each feature: [[-0.85398665 -1.0816363  -0.27824083  0.27939989 -0.34585523]]\n",
      "20191112 14:25:07 - INFO : Training accuracy: 0.5291005291005291\n",
      "20191112 14:25:07 - INFO : Test accuracy: 0.5064484126984127\n",
      "20191112 14:25:07 - INFO : C: 0.1\n",
      "20191112 14:25:07 - INFO : Coefficient of each feature: [[-0.10055684 -0.12720765 -0.03091436  0.0357949  -0.04059677]]\n",
      "20191112 14:25:07 - INFO : Training accuracy: 0.5267857142857143\n",
      "20191112 14:25:07 - INFO : Test accuracy: 0.5064484126984127\n",
      "20191112 14:25:07 - INFO : C: 0.001\n",
      "20191112 14:25:07 - INFO : Coefficient of each feature: [[-0.00102766 -0.00129915 -0.00031465  0.0003671  -0.0004159 ]]\n",
      "20191112 14:25:07 - INFO : Training accuracy: 0.5046296296296297\n",
      "20191112 14:25:07 - INFO : Test accuracy: 0.5188492063492064\n",
      "20191112 14:25:07 - INFO : Computed predicted probabilities as follows: [[0.51319725 0.48680275]\n",
      " [0.48754629 0.51245371]\n",
      " [0.47517529 0.52482471]\n",
      " ...\n",
      " [0.49498304 0.50501696]\n",
      " [0.5009449  0.4990551 ]\n",
      " [0.49541201 0.50458799]]\n",
      "20191112 14:25:07 - INFO : Finished running through classifier\n"
     ]
    }
   ],
   "source": [
    "#run regression\n",
    "logit = LogisticalRegression()\n",
    "logit.run_classifier(dax_data)\n",
    "logit2 = LogisticalRegression()\n",
    "logit2.run_classifier(es_50_data)"
   ]
  },
  {
   "cell_type": "code",
   "execution_count": 8,
   "metadata": {},
   "outputs": [
    {
     "name": "stdout",
     "output_type": "stream",
     "text": [
      "[[0.44634408 0.55365592]\n",
      " [0.463002   0.536998  ]\n",
      " [0.46950724 0.53049276]\n",
      " ...\n",
      " [0.46867095 0.53132905]\n",
      " [0.48071108 0.51928892]\n",
      " [0.47221671 0.52778329]]\n",
      "[0.53999984 0.48016325 0.52566479 ... 0.53119447 0.5096999  0.52235001]\n",
      "[[0.51319725 0.48680275]\n",
      " [0.48754629 0.51245371]\n",
      " [0.47517529 0.52482471]\n",
      " ...\n",
      " [0.49498304 0.50501696]\n",
      " [0.5009449  0.4990551 ]\n",
      " [0.49541201 0.50458799]]\n",
      "[0.57094186 0.53942146 0.52989188 ... 0.50017515 0.49280951 0.49790967]\n"
     ]
    }
   ],
   "source": [
    "print(dax_data.pred_prob)\n",
    "print(dax_data.y_pred_prob_test)\n",
    "print(es_50_data.pred_prob)\n",
    "print(es_50_data.y_pred_prob_test)"
   ]
  },
  {
   "cell_type": "code",
   "execution_count": 9,
   "metadata": {},
   "outputs": [
    {
     "name": "stdout",
     "output_type": "stream",
     "text": [
      "0.6292630718971346\n",
      "0.39441673085521123\n",
      "0.6197287787302712\n",
      "0.4358015033564712\n",
      "0.7471298599001364\n",
      "0.3654778542562707\n",
      "0.6739272464855252\n",
      "0.41447806580683316\n"
     ]
    }
   ],
   "source": [
    "print(max(dax_data.pred_prob[:, 1]))\n",
    "print(min(dax_data.pred_prob[:, 1]))\n",
    "print(max(dax_data.y_pred_prob_test))\n",
    "print(min(dax_data.y_pred_prob_test))\n",
    "\n",
    "print(max(es_50_data.pred_prob[:, 1]))\n",
    "print(min(es_50_data.pred_prob[:, 1]))\n",
    "print(max(es_50_data.y_pred_prob_test))\n",
    "print(min(es_50_data.y_pred_prob_test))"
   ]
  },
  {
   "cell_type": "code",
   "execution_count": 11,
   "metadata": {},
   "outputs": [
    {
     "data": {
      "text/plain": [
       "array([0.55365592, 0.536998  , 0.53049276, ..., 0.53132905, 0.51928892,\n",
       "       0.52778329])"
      ]
     },
     "execution_count": 11,
     "metadata": {},
     "output_type": "execute_result"
    }
   ],
   "source": [
    "dax_data.pred_prob[:, 1]"
   ]
  },
  {
   "cell_type": "code",
   "execution_count": null,
   "metadata": {},
   "outputs": [],
   "source": []
  },
  {
   "cell_type": "code",
   "execution_count": null,
   "metadata": {},
   "outputs": [],
   "source": []
  },
  {
   "cell_type": "code",
   "execution_count": null,
   "metadata": {},
   "outputs": [],
   "source": []
  },
  {
   "cell_type": "code",
   "execution_count": null,
   "metadata": {},
   "outputs": [],
   "source": []
  },
  {
   "cell_type": "code",
   "execution_count": 10,
   "metadata": {},
   "outputs": [
    {
     "name": "stdout",
     "output_type": "stream",
     "text": [
      "0.4358015033564712\n"
     ]
    }
   ],
   "source": [
    "print(min(dax_data.y_pred_prob_test))"
   ]
  },
  {
   "cell_type": "code",
   "execution_count": null,
   "metadata": {},
   "outputs": [],
   "source": []
  }
 ],
 "metadata": {
  "kernelspec": {
   "display_name": "Python 3",
   "language": "python",
   "name": "python3"
  },
  "language_info": {
   "codemirror_mode": {
    "name": "ipython",
    "version": 3
   },
   "file_extension": ".py",
   "mimetype": "text/x-python",
   "name": "python",
   "nbconvert_exporter": "python",
   "pygments_lexer": "ipython3",
   "version": "3.6.8"
  },
  "varInspector": {
   "cols": {
    "lenName": 16,
    "lenType": 16,
    "lenVar": 40
   },
   "kernels_config": {
    "python": {
     "delete_cmd_postfix": "",
     "delete_cmd_prefix": "del ",
     "library": "var_list.py",
     "varRefreshCmd": "print(var_dic_list())"
    },
    "r": {
     "delete_cmd_postfix": ") ",
     "delete_cmd_prefix": "rm(",
     "library": "var_list.r",
     "varRefreshCmd": "cat(var_dic_list()) "
    }
   },
   "position": {
    "height": "144.85px",
    "left": "761px",
    "right": "20px",
    "top": "135px",
    "width": "350px"
   },
   "types_to_exclude": [
    "module",
    "function",
    "builtin_function_or_method",
    "instance",
    "_Feature"
   ],
   "window_display": false
  }
 },
 "nbformat": 4,
 "nbformat_minor": 2
}
