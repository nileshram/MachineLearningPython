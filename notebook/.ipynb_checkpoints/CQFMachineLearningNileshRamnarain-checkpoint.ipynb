{
 "cells": [
  {
   "cell_type": "markdown",
   "metadata": {},
   "source": [
    "## CQF Exam 3 - Machine Learning & Market Return Directional Prediction "
   ]
  },
  {
   "cell_type": "code",
   "execution_count": 1,
   "metadata": {},
   "outputs": [],
   "source": [
    "#Import project modules"
   ]
  },
  {
   "cell_type": "code",
   "execution_count": 2,
   "metadata": {
    "scrolled": true,
    "tags": [
     "hidecode"
    ]
   },
   "outputs": [
    {
     "name": "stdout",
     "output_type": "stream",
     "text": [
      "/home/nilesh/workspace/CQFMachineLearning\n"
     ]
    }
   ],
   "source": [
    "import project_path\n",
    "from builtins import staticmethod\n",
    "from abc import abstractmethod, ABCMeta\n",
    "from sklearn import linear_model, svm, model_selection\n",
    "from sklearn.metrics import confusion_matrix, classification_report\n",
    "import statsmodels.api as sm\n",
    "import matplotlib.pyplot as plt\n",
    "import numpy as np\n",
    "import pandas as pd\n",
    "import logging.config\n",
    "import os\n",
    "import json\n",
    "%cd /home/nilesh/workspace/CQFMachineLearning/\n",
    "%matplotlib inline"
   ]
  },
  {
   "cell_type": "code",
   "execution_count": 3,
   "metadata": {},
   "outputs": [],
   "source": [
    "from main import ConfigurationFactory, DataModel, LogisticalRegression, SupportVectorMachine, GraphLib, SupervisedLearning"
   ]
  },
  {
   "cell_type": "markdown",
   "metadata": {},
   "source": [
    "### Initialise Data Model and Log Configurations"
   ]
  },
  {
   "cell_type": "code",
   "execution_count": 4,
   "metadata": {},
   "outputs": [
    {
     "data": {
      "text/html": [
       "<div>\n",
       "<style scoped>\n",
       "    .dataframe tbody tr th:only-of-type {\n",
       "        vertical-align: middle;\n",
       "    }\n",
       "\n",
       "    .dataframe tbody tr th {\n",
       "        vertical-align: top;\n",
       "    }\n",
       "\n",
       "    .dataframe thead th {\n",
       "        text-align: right;\n",
       "    }\n",
       "</style>\n",
       "<table border=\"1\" class=\"dataframe\">\n",
       "  <thead>\n",
       "    <tr style=\"text-align: right;\">\n",
       "      <th></th>\n",
       "      <th>Date</th>\n",
       "      <th>Open</th>\n",
       "      <th>High</th>\n",
       "      <th>Low</th>\n",
       "      <th>Settle</th>\n",
       "      <th>Volume</th>\n",
       "      <th>log_return</th>\n",
       "      <th>lagged_return_1</th>\n",
       "      <th>lagged_return_2</th>\n",
       "      <th>lagged_return_3</th>\n",
       "      <th>lagged_return_4</th>\n",
       "      <th>lagged_return_5</th>\n",
       "    </tr>\n",
       "  </thead>\n",
       "  <tbody>\n",
       "    <tr>\n",
       "      <th>6</th>\n",
       "      <td>2000-01-11</td>\n",
       "      <td>6945.0</td>\n",
       "      <td>6981.0</td>\n",
       "      <td>6861.0</td>\n",
       "      <td>6938.5</td>\n",
       "      <td>58944</td>\n",
       "      <td>-0.003094</td>\n",
       "      <td>0.018855</td>\n",
       "      <td>0.048677</td>\n",
       "      <td>-0.004065</td>\n",
       "      <td>-0.014892</td>\n",
       "      <td>-0.025979</td>\n",
       "    </tr>\n",
       "    <tr>\n",
       "      <th>7</th>\n",
       "      <td>2000-01-12</td>\n",
       "      <td>6860.0</td>\n",
       "      <td>6946.5</td>\n",
       "      <td>6828.5</td>\n",
       "      <td>6938.0</td>\n",
       "      <td>50030</td>\n",
       "      <td>-0.000072</td>\n",
       "      <td>-0.003094</td>\n",
       "      <td>0.018855</td>\n",
       "      <td>0.048677</td>\n",
       "      <td>-0.004065</td>\n",
       "      <td>-0.014892</td>\n",
       "    </tr>\n",
       "    <tr>\n",
       "      <th>8</th>\n",
       "      <td>2000-01-13</td>\n",
       "      <td>6940.0</td>\n",
       "      <td>7145.0</td>\n",
       "      <td>6923.5</td>\n",
       "      <td>7009.0</td>\n",
       "      <td>67693</td>\n",
       "      <td>0.010181</td>\n",
       "      <td>-0.000072</td>\n",
       "      <td>-0.003094</td>\n",
       "      <td>0.018855</td>\n",
       "      <td>0.048677</td>\n",
       "      <td>-0.004065</td>\n",
       "    </tr>\n",
       "    <tr>\n",
       "      <th>9</th>\n",
       "      <td>2000-01-14</td>\n",
       "      <td>7053.0</td>\n",
       "      <td>7246.0</td>\n",
       "      <td>7053.0</td>\n",
       "      <td>7229.0</td>\n",
       "      <td>63855</td>\n",
       "      <td>0.030906</td>\n",
       "      <td>0.010181</td>\n",
       "      <td>-0.000072</td>\n",
       "      <td>-0.003094</td>\n",
       "      <td>0.018855</td>\n",
       "      <td>0.048677</td>\n",
       "    </tr>\n",
       "    <tr>\n",
       "      <th>10</th>\n",
       "      <td>2000-01-17</td>\n",
       "      <td>7264.5</td>\n",
       "      <td>7326.0</td>\n",
       "      <td>7146.5</td>\n",
       "      <td>7307.0</td>\n",
       "      <td>47015</td>\n",
       "      <td>0.010732</td>\n",
       "      <td>0.030906</td>\n",
       "      <td>0.010181</td>\n",
       "      <td>-0.000072</td>\n",
       "      <td>-0.003094</td>\n",
       "      <td>0.018855</td>\n",
       "    </tr>\n",
       "  </tbody>\n",
       "</table>\n",
       "</div>"
      ],
      "text/plain": [
       "         Date    Open    High     Low  Settle  Volume  log_return  \\\n",
       "6  2000-01-11  6945.0  6981.0  6861.0  6938.5   58944   -0.003094   \n",
       "7  2000-01-12  6860.0  6946.5  6828.5  6938.0   50030   -0.000072   \n",
       "8  2000-01-13  6940.0  7145.0  6923.5  7009.0   67693    0.010181   \n",
       "9  2000-01-14  7053.0  7246.0  7053.0  7229.0   63855    0.030906   \n",
       "10 2000-01-17  7264.5  7326.0  7146.5  7307.0   47015    0.010732   \n",
       "\n",
       "    lagged_return_1  lagged_return_2  lagged_return_3  lagged_return_4  \\\n",
       "6          0.018855         0.048677        -0.004065        -0.014892   \n",
       "7         -0.003094         0.018855         0.048677        -0.004065   \n",
       "8         -0.000072        -0.003094         0.018855         0.048677   \n",
       "9          0.010181        -0.000072        -0.003094         0.018855   \n",
       "10         0.030906         0.010181        -0.000072        -0.003094   \n",
       "\n",
       "    lagged_return_5  \n",
       "6         -0.025979  \n",
       "7         -0.014892  \n",
       "8         -0.004065  \n",
       "9          0.048677  \n",
       "10         0.018855  "
      ]
     },
     "execution_count": 4,
     "metadata": {},
     "output_type": "execute_result"
    }
   ],
   "source": [
    "#initialise Data Model\n",
    "data = DataModel()\n",
    "\n",
    "#Display Model Head\n",
    "data.model.head()"
   ]
  },
  {
   "cell_type": "code",
   "execution_count": 5,
   "metadata": {},
   "outputs": [
    {
     "name": "stdout",
     "output_type": "stream",
     "text": [
      "Logistic Return Prediction Data Summary:  1.0    4942\n",
      "-1.0      89\n",
      "Name: log_pred, dtype: int64\n",
      "Logistic Regression data model:          Date    Open    High     Low  Settle  Volume  log_return  \\\n",
      "6  2000-01-11  6945.0  6981.0  6861.0  6938.5   58944   -0.003094   \n",
      "7  2000-01-12  6860.0  6946.5  6828.5  6938.0   50030   -0.000072   \n",
      "8  2000-01-13  6940.0  7145.0  6923.5  7009.0   67693    0.010181   \n",
      "9  2000-01-14  7053.0  7246.0  7053.0  7229.0   63855    0.030906   \n",
      "10 2000-01-17  7264.5  7326.0  7146.5  7307.0   47015    0.010732   \n",
      "\n",
      "    lagged_return_1  lagged_return_2  lagged_return_3  lagged_return_4  \\\n",
      "6          0.018855         0.048677        -0.004065        -0.014892   \n",
      "7         -0.003094         0.018855         0.048677        -0.004065   \n",
      "8         -0.000072        -0.003094         0.018855         0.048677   \n",
      "9          0.010181        -0.000072        -0.003094         0.018855   \n",
      "10         0.030906         0.010181        -0.000072        -0.003094   \n",
      "\n",
      "    lagged_return_5  log_pred  logistic_return  \n",
      "6         -0.025979       1.0         0.003094  \n",
      "7         -0.014892       1.0         0.000072  \n",
      "8         -0.004065       1.0         0.010181  \n",
      "9          0.048677      -1.0        -0.030906  \n",
      "10         0.018855       1.0         0.010732  , with size 5031\n",
      "Logistic Regression score: 0.5295169946332737\n"
     ]
    }
   ],
   "source": [
    "#run regression\n",
    "logit = LogisticalRegression()\n",
    "logit.run_classifier(data)"
   ]
  }
 ],
 "metadata": {
  "kernelspec": {
   "display_name": "Python 3",
   "language": "python",
   "name": "python3"
  },
  "language_info": {
   "codemirror_mode": {
    "name": "ipython",
    "version": 3
   },
   "file_extension": ".py",
   "mimetype": "text/x-python",
   "name": "python",
   "nbconvert_exporter": "python",
   "pygments_lexer": "ipython3",
   "version": "3.6.8"
  },
  "varInspector": {
   "cols": {
    "lenName": 16,
    "lenType": 16,
    "lenVar": 40
   },
   "kernels_config": {
    "python": {
     "delete_cmd_postfix": "",
     "delete_cmd_prefix": "del ",
     "library": "var_list.py",
     "varRefreshCmd": "print(var_dic_list())"
    },
    "r": {
     "delete_cmd_postfix": ") ",
     "delete_cmd_prefix": "rm(",
     "library": "var_list.r",
     "varRefreshCmd": "cat(var_dic_list()) "
    }
   },
   "position": {
    "height": "144.85px",
    "left": "761px",
    "right": "20px",
    "top": "135px",
    "width": "350px"
   },
   "types_to_exclude": [
    "module",
    "function",
    "builtin_function_or_method",
    "instance",
    "_Feature"
   ],
   "window_display": false
  }
 },
 "nbformat": 4,
 "nbformat_minor": 2
}
