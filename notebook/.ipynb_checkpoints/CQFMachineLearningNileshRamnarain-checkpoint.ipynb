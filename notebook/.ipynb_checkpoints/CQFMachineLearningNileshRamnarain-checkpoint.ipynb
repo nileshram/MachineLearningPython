{
 "cells": [
  {
   "cell_type": "markdown",
   "metadata": {},
   "source": [
    "## CQF Exam 3 - Machine Learning & Market Return Directional Prediction "
   ]
  },
  {
   "cell_type": "code",
   "execution_count": 1,
   "metadata": {},
   "outputs": [],
   "source": [
    "#Import project modules"
   ]
  },
  {
   "cell_type": "code",
   "execution_count": 2,
   "metadata": {
    "scrolled": true,
    "tags": [
     "hidecode"
    ]
   },
   "outputs": [
    {
     "name": "stdout",
     "output_type": "stream",
     "text": [
      "/home/nilesh/workspace/CQFMachineLearning\n"
     ]
    }
   ],
   "source": [
    "import project_path\n",
    "import logging.config\n",
    "import os\n",
    "import json\n",
    "#import graph library\n",
    "from graph.graphlib import GraphLib\n",
    "#import datamodel\n",
    "from model.datamodel import DataModel\n",
    "#import ml-classifiers\n",
    "from ml.classifiers import LogisticalRegression, SupportVectorMachine, ANN\n",
    "%cd /home/nilesh/workspace/CQFMachineLearning/\n",
    "%matplotlib inline"
   ]
  },
  {
   "cell_type": "code",
   "execution_count": 3,
   "metadata": {},
   "outputs": [],
   "source": [
    "from main import ConfigurationFactory"
   ]
  },
  {
   "cell_type": "markdown",
   "metadata": {},
   "source": [
    "### Initialise Data Model and Log Configurations"
   ]
  },
  {
   "cell_type": "code",
   "execution_count": 4,
   "metadata": {},
   "outputs": [
    {
     "name": "stdout",
     "output_type": "stream",
     "text": [
      "20191112 13:19:27 - INFO : Initialising Program For CQF Exam 3 Machine Learning with Python\n"
     ]
    }
   ],
   "source": [
    "#initialise global Logging Configuration\n",
    "ConfigurationFactory._configure_log()\n",
    "log = logging.getLogger(\"cqf_logger\")\n",
    "log.info(\"Initialising Program For CQF Exam 3 Machine Learning with Python\")\n",
    "\n",
    "\n",
    "#initialise Data Model\n",
    "dax_data = DataModel(filename=\"dax.csv\")\n",
    "es_50_data = DataModel(filename=\"eurostoxx.csv\")"
   ]
  },
  {
   "cell_type": "code",
   "execution_count": 5,
   "metadata": {},
   "outputs": [
    {
     "data": {
      "text/html": [
       "<div>\n",
       "<style scoped>\n",
       "    .dataframe tbody tr th:only-of-type {\n",
       "        vertical-align: middle;\n",
       "    }\n",
       "\n",
       "    .dataframe tbody tr th {\n",
       "        vertical-align: top;\n",
       "    }\n",
       "\n",
       "    .dataframe thead th {\n",
       "        text-align: right;\n",
       "    }\n",
       "</style>\n",
       "<table border=\"1\" class=\"dataframe\">\n",
       "  <thead>\n",
       "    <tr style=\"text-align: right;\">\n",
       "      <th></th>\n",
       "      <th>Date</th>\n",
       "      <th>Open</th>\n",
       "      <th>High</th>\n",
       "      <th>Low</th>\n",
       "      <th>Settle</th>\n",
       "      <th>Volume</th>\n",
       "      <th>log_return</th>\n",
       "      <th>log_return_sign</th>\n",
       "      <th>lagged_return_1</th>\n",
       "      <th>lagged_return_2</th>\n",
       "      <th>lagged_return_3</th>\n",
       "      <th>lagged_return_4</th>\n",
       "      <th>lagged_return_5</th>\n",
       "    </tr>\n",
       "  </thead>\n",
       "  <tbody>\n",
       "    <tr>\n",
       "      <th>6</th>\n",
       "      <td>2000-01-11</td>\n",
       "      <td>6945.0</td>\n",
       "      <td>6981.0</td>\n",
       "      <td>6861.0</td>\n",
       "      <td>6938.5</td>\n",
       "      <td>58944</td>\n",
       "      <td>-0.003094</td>\n",
       "      <td>-1.0</td>\n",
       "      <td>0.018855</td>\n",
       "      <td>0.048677</td>\n",
       "      <td>-0.004065</td>\n",
       "      <td>-0.014892</td>\n",
       "      <td>-0.025979</td>\n",
       "    </tr>\n",
       "    <tr>\n",
       "      <th>7</th>\n",
       "      <td>2000-01-12</td>\n",
       "      <td>6860.0</td>\n",
       "      <td>6946.5</td>\n",
       "      <td>6828.5</td>\n",
       "      <td>6938.0</td>\n",
       "      <td>50030</td>\n",
       "      <td>-0.000072</td>\n",
       "      <td>-1.0</td>\n",
       "      <td>-0.003094</td>\n",
       "      <td>0.018855</td>\n",
       "      <td>0.048677</td>\n",
       "      <td>-0.004065</td>\n",
       "      <td>-0.014892</td>\n",
       "    </tr>\n",
       "    <tr>\n",
       "      <th>8</th>\n",
       "      <td>2000-01-13</td>\n",
       "      <td>6940.0</td>\n",
       "      <td>7145.0</td>\n",
       "      <td>6923.5</td>\n",
       "      <td>7009.0</td>\n",
       "      <td>67693</td>\n",
       "      <td>0.010181</td>\n",
       "      <td>1.0</td>\n",
       "      <td>-0.000072</td>\n",
       "      <td>-0.003094</td>\n",
       "      <td>0.018855</td>\n",
       "      <td>0.048677</td>\n",
       "      <td>-0.004065</td>\n",
       "    </tr>\n",
       "    <tr>\n",
       "      <th>9</th>\n",
       "      <td>2000-01-14</td>\n",
       "      <td>7053.0</td>\n",
       "      <td>7246.0</td>\n",
       "      <td>7053.0</td>\n",
       "      <td>7229.0</td>\n",
       "      <td>63855</td>\n",
       "      <td>0.030906</td>\n",
       "      <td>1.0</td>\n",
       "      <td>0.010181</td>\n",
       "      <td>-0.000072</td>\n",
       "      <td>-0.003094</td>\n",
       "      <td>0.018855</td>\n",
       "      <td>0.048677</td>\n",
       "    </tr>\n",
       "    <tr>\n",
       "      <th>10</th>\n",
       "      <td>2000-01-17</td>\n",
       "      <td>7264.5</td>\n",
       "      <td>7326.0</td>\n",
       "      <td>7146.5</td>\n",
       "      <td>7307.0</td>\n",
       "      <td>47015</td>\n",
       "      <td>0.010732</td>\n",
       "      <td>1.0</td>\n",
       "      <td>0.030906</td>\n",
       "      <td>0.010181</td>\n",
       "      <td>-0.000072</td>\n",
       "      <td>-0.003094</td>\n",
       "      <td>0.018855</td>\n",
       "    </tr>\n",
       "  </tbody>\n",
       "</table>\n",
       "</div>"
      ],
      "text/plain": [
       "         Date    Open    High     Low  Settle  Volume  log_return  \\\n",
       "6  2000-01-11  6945.0  6981.0  6861.0  6938.5   58944   -0.003094   \n",
       "7  2000-01-12  6860.0  6946.5  6828.5  6938.0   50030   -0.000072   \n",
       "8  2000-01-13  6940.0  7145.0  6923.5  7009.0   67693    0.010181   \n",
       "9  2000-01-14  7053.0  7246.0  7053.0  7229.0   63855    0.030906   \n",
       "10 2000-01-17  7264.5  7326.0  7146.5  7307.0   47015    0.010732   \n",
       "\n",
       "    log_return_sign  lagged_return_1  lagged_return_2  lagged_return_3  \\\n",
       "6              -1.0         0.018855         0.048677        -0.004065   \n",
       "7              -1.0        -0.003094         0.018855         0.048677   \n",
       "8               1.0        -0.000072        -0.003094         0.018855   \n",
       "9               1.0         0.010181        -0.000072        -0.003094   \n",
       "10              1.0         0.030906         0.010181        -0.000072   \n",
       "\n",
       "    lagged_return_4  lagged_return_5  \n",
       "6         -0.014892        -0.025979  \n",
       "7         -0.004065        -0.014892  \n",
       "8          0.048677        -0.004065  \n",
       "9          0.018855         0.048677  \n",
       "10        -0.003094         0.018855  "
      ]
     },
     "execution_count": 5,
     "metadata": {},
     "output_type": "execute_result"
    }
   ],
   "source": [
    "#Display DAX datamodel\n",
    "dax_data.model.head()"
   ]
  },
  {
   "cell_type": "code",
   "execution_count": 6,
   "metadata": {},
   "outputs": [
    {
     "data": {
      "text/html": [
       "<div>\n",
       "<style scoped>\n",
       "    .dataframe tbody tr th:only-of-type {\n",
       "        vertical-align: middle;\n",
       "    }\n",
       "\n",
       "    .dataframe tbody tr th {\n",
       "        vertical-align: top;\n",
       "    }\n",
       "\n",
       "    .dataframe thead th {\n",
       "        text-align: right;\n",
       "    }\n",
       "</style>\n",
       "<table border=\"1\" class=\"dataframe\">\n",
       "  <thead>\n",
       "    <tr style=\"text-align: right;\">\n",
       "      <th></th>\n",
       "      <th>Date</th>\n",
       "      <th>Open</th>\n",
       "      <th>High</th>\n",
       "      <th>Low</th>\n",
       "      <th>Settle</th>\n",
       "      <th>Volume</th>\n",
       "      <th>log_return</th>\n",
       "      <th>log_return_sign</th>\n",
       "      <th>lagged_return_1</th>\n",
       "      <th>lagged_return_2</th>\n",
       "      <th>lagged_return_3</th>\n",
       "      <th>lagged_return_4</th>\n",
       "      <th>lagged_return_5</th>\n",
       "    </tr>\n",
       "  </thead>\n",
       "  <tbody>\n",
       "    <tr>\n",
       "      <th>6</th>\n",
       "      <td>2000-01-11</td>\n",
       "      <td>4752</td>\n",
       "      <td>4759</td>\n",
       "      <td>4655</td>\n",
       "      <td>4708.0</td>\n",
       "      <td>21379</td>\n",
       "      <td>-0.008250</td>\n",
       "      <td>-1.0</td>\n",
       "      <td>0.013360</td>\n",
       "      <td>0.032327</td>\n",
       "      <td>-0.005936</td>\n",
       "      <td>-0.023826</td>\n",
       "      <td>-0.039863</td>\n",
       "    </tr>\n",
       "    <tr>\n",
       "      <th>7</th>\n",
       "      <td>2000-01-12</td>\n",
       "      <td>4661</td>\n",
       "      <td>4677</td>\n",
       "      <td>4618</td>\n",
       "      <td>4664.0</td>\n",
       "      <td>33596</td>\n",
       "      <td>-0.009390</td>\n",
       "      <td>-1.0</td>\n",
       "      <td>-0.008250</td>\n",
       "      <td>0.013360</td>\n",
       "      <td>0.032327</td>\n",
       "      <td>-0.005936</td>\n",
       "      <td>-0.023826</td>\n",
       "    </tr>\n",
       "    <tr>\n",
       "      <th>8</th>\n",
       "      <td>2000-01-13</td>\n",
       "      <td>4658</td>\n",
       "      <td>4780</td>\n",
       "      <td>4658</td>\n",
       "      <td>4711.0</td>\n",
       "      <td>27320</td>\n",
       "      <td>0.010027</td>\n",
       "      <td>1.0</td>\n",
       "      <td>-0.009390</td>\n",
       "      <td>-0.008250</td>\n",
       "      <td>0.013360</td>\n",
       "      <td>0.032327</td>\n",
       "      <td>-0.005936</td>\n",
       "    </tr>\n",
       "    <tr>\n",
       "      <th>9</th>\n",
       "      <td>2000-01-14</td>\n",
       "      <td>4750</td>\n",
       "      <td>4899</td>\n",
       "      <td>4750</td>\n",
       "      <td>4897.0</td>\n",
       "      <td>40770</td>\n",
       "      <td>0.038723</td>\n",
       "      <td>1.0</td>\n",
       "      <td>0.010027</td>\n",
       "      <td>-0.009390</td>\n",
       "      <td>-0.008250</td>\n",
       "      <td>0.013360</td>\n",
       "      <td>0.032327</td>\n",
       "    </tr>\n",
       "    <tr>\n",
       "      <th>10</th>\n",
       "      <td>2000-01-17</td>\n",
       "      <td>4920</td>\n",
       "      <td>4932</td>\n",
       "      <td>4833</td>\n",
       "      <td>4927.0</td>\n",
       "      <td>30413</td>\n",
       "      <td>0.006108</td>\n",
       "      <td>1.0</td>\n",
       "      <td>0.038723</td>\n",
       "      <td>0.010027</td>\n",
       "      <td>-0.009390</td>\n",
       "      <td>-0.008250</td>\n",
       "      <td>0.013360</td>\n",
       "    </tr>\n",
       "  </tbody>\n",
       "</table>\n",
       "</div>"
      ],
      "text/plain": [
       "         Date  Open  High   Low  Settle  Volume  log_return  log_return_sign  \\\n",
       "6  2000-01-11  4752  4759  4655  4708.0   21379   -0.008250             -1.0   \n",
       "7  2000-01-12  4661  4677  4618  4664.0   33596   -0.009390             -1.0   \n",
       "8  2000-01-13  4658  4780  4658  4711.0   27320    0.010027              1.0   \n",
       "9  2000-01-14  4750  4899  4750  4897.0   40770    0.038723              1.0   \n",
       "10 2000-01-17  4920  4932  4833  4927.0   30413    0.006108              1.0   \n",
       "\n",
       "    lagged_return_1  lagged_return_2  lagged_return_3  lagged_return_4  \\\n",
       "6          0.013360         0.032327        -0.005936        -0.023826   \n",
       "7         -0.008250         0.013360         0.032327        -0.005936   \n",
       "8         -0.009390        -0.008250         0.013360         0.032327   \n",
       "9          0.010027        -0.009390        -0.008250         0.013360   \n",
       "10         0.038723         0.010027        -0.009390        -0.008250   \n",
       "\n",
       "    lagged_return_5  \n",
       "6         -0.039863  \n",
       "7         -0.023826  \n",
       "8         -0.005936  \n",
       "9          0.032327  \n",
       "10         0.013360  "
      ]
     },
     "execution_count": 6,
     "metadata": {},
     "output_type": "execute_result"
    }
   ],
   "source": [
    "#Display ESTOXX 50 datamodel\n",
    "es_50_data.model.head()"
   ]
  },
  {
   "cell_type": "code",
   "execution_count": 7,
   "metadata": {},
   "outputs": [
    {
     "name": "stdout",
     "output_type": "stream",
     "text": [
      "20191112 13:19:27 - INFO : Running Logisitical Regression Classifier\n",
      "20191112 13:19:27 - INFO : Fitting model against specified parameters\n",
      "20191112 13:19:27 - INFO : Running Logistical Regression Prediction\n",
      "20191112 13:19:27 - INFO : Logistic Return Prediction Data Summary:  1.0    4876\n",
      "-1.0     155\n",
      "Name: log_pred, dtype: int64\n",
      "20191112 13:19:27 - INFO : Finished test train with split: 0.6\n",
      "20191112 13:19:27 - INFO : Computing predicted probabilities on svm_test set of data\n",
      "20191112 13:19:27 - INFO : ROC AUC Test Data Score: 0.49778538601523703\n",
      "20191112 13:19:27 - INFO : Computing predicted probabilities on population data\n",
      "20191112 13:19:27 - INFO : ROC AUC Population Data Score: 1.0\n",
      "20191112 13:19:27 - INFO : Running through various strength values C\n",
      "20191112 13:19:27 - INFO : C: 1000000\n",
      "20191112 13:19:27 - INFO : Coefficient of each feature: [[-2.91553482 -0.52077277 -2.32893815  2.58114759 -5.82999093]]\n",
      "20191112 13:19:27 - INFO : Training accuracy: 0.5273359840954275\n",
      "20191112 13:19:28 - INFO : Test accuracy: 0.4915534945346141\n",
      "20191112 13:19:28 - INFO : C: 100000\n",
      "20191112 13:19:28 - INFO : Coefficient of each feature: [[-2.91532031 -0.5207183  -2.3287581   2.58095792 -5.82954225]]\n",
      "20191112 13:19:28 - INFO : Training accuracy: 0.5273359840954275\n",
      "20191112 13:19:28 - INFO : Test accuracy: 0.4915534945346141\n",
      "20191112 13:19:28 - INFO : C: 10000\n",
      "20191112 13:19:28 - INFO : Coefficient of each feature: [[-2.91317698 -0.52017417 -2.32695909  2.57906279 -5.82505939]]\n",
      "20191112 13:19:28 - INFO : Training accuracy: 0.5273359840954275\n",
      "20191112 13:19:28 - INFO : Test accuracy: 0.4915534945346141\n",
      "20191112 13:19:28 - INFO : C: 1000\n",
      "20191112 13:19:28 - INFO : Coefficient of each feature: [[-2.89191907 -0.51479238 -2.30912421  2.56026601 -5.78061626]]\n",
      "20191112 13:19:28 - INFO : Training accuracy: 0.5273359840954275\n",
      "20191112 13:19:28 - INFO : Test accuracy: 0.4915534945346141\n",
      "20191112 13:19:28 - INFO : C: 100\n",
      "20191112 13:19:28 - INFO : Coefficient of each feature: [[-2.69550492 -0.46633564 -2.1450091   2.38654642 -5.37155318]]\n",
      "20191112 13:19:28 - INFO : Training accuracy: 0.5273359840954275\n",
      "20191112 13:19:28 - INFO : Test accuracy: 0.4922159655515071\n",
      "20191112 13:19:28 - INFO : C: 10\n",
      "20191112 13:19:28 - INFO : Coefficient of each feature: [[-1.60945056 -0.23679603 -1.25805815  1.42506756 -3.15688072]]\n",
      "20191112 13:19:28 - INFO : Training accuracy: 0.5293240556660039\n",
      "20191112 13:19:28 - INFO : Test accuracy: 0.4915534945346141\n",
      "20191112 13:19:28 - INFO : C: 1\n",
      "20191112 13:19:28 - INFO : Coefficient of each feature: [[-0.32149009 -0.03759974 -0.24592069  0.28456647 -0.6189607 ]]\n",
      "20191112 13:19:28 - INFO : Training accuracy: 0.5372763419483101\n",
      "20191112 13:19:28 - INFO : Test accuracy: 0.4975157336866512\n",
      "20191112 13:19:28 - INFO : C: 0.1\n",
      "20191112 13:19:28 - INFO : Coefficient of each feature: [[-0.03567186 -0.00402317 -0.02720547  0.0315836  -0.0685159 ]]\n",
      "20191112 13:19:28 - INFO : Training accuracy: 0.5283300198807157\n",
      "20191112 13:19:28 - INFO : Test accuracy: 0.5319642265650878\n",
      "20191112 13:19:28 - INFO : C: 0.001\n",
      "20191112 13:19:28 - INFO : Coefficient of each feature: [[-3.58710868e-04 -3.79005630e-05 -2.72618509e-04  3.21677547e-04\n",
      "  -6.91621952e-04]]\n",
      "20191112 13:19:28 - INFO : Training accuracy: 0.5243538767395626\n",
      "20191112 13:19:28 - INFO : Test accuracy: 0.5316329910566413\n",
      "20191112 13:19:28 - INFO : Finished running through classifier\n"
     ]
    },
    {
     "ename": "NameError",
     "evalue": "name 'self' is not defined",
     "output_type": "error",
     "traceback": [
      "\u001b[0;31m---------------------------------------------------------------------------\u001b[0m",
      "\u001b[0;31mNameError\u001b[0m                                 Traceback (most recent call last)",
      "\u001b[0;32m<ipython-input-7-8a0cdcc8c1a0>\u001b[0m in \u001b[0;36m<module>\u001b[0;34m()\u001b[0m\n\u001b[1;32m      3\u001b[0m \u001b[0mlogit\u001b[0m\u001b[0;34m.\u001b[0m\u001b[0mrun_classifier\u001b[0m\u001b[0;34m(\u001b[0m\u001b[0mdax_data\u001b[0m\u001b[0;34m)\u001b[0m\u001b[0;34m\u001b[0m\u001b[0;34m\u001b[0m\u001b[0m\n\u001b[1;32m      4\u001b[0m \u001b[0mx_features\u001b[0m \u001b[0;34m=\u001b[0m \u001b[0;34m[\u001b[0m\u001b[0mheader\u001b[0m \u001b[0;32mfor\u001b[0m \u001b[0mheader\u001b[0m \u001b[0;32min\u001b[0m \u001b[0mlist\u001b[0m\u001b[0;34m(\u001b[0m\u001b[0mdax_data\u001b[0m\u001b[0;34m.\u001b[0m\u001b[0mmodel\u001b[0m\u001b[0;34m)\u001b[0m \u001b[0;32mif\u001b[0m \u001b[0;34m\"lagged\"\u001b[0m \u001b[0;32min\u001b[0m \u001b[0mheader\u001b[0m\u001b[0;34m]\u001b[0m\u001b[0;34m\u001b[0m\u001b[0;34m\u001b[0m\u001b[0m\n\u001b[0;32m----> 5\u001b[0;31m \u001b[0mlogit\u001b[0m\u001b[0;34m.\u001b[0m\u001b[0mget_predicted_probabilities\u001b[0m\u001b[0;34m(\u001b[0m\u001b[0mdax_data\u001b[0m\u001b[0;34m.\u001b[0m\u001b[0mmodel\u001b[0m\u001b[0;34m[\u001b[0m\u001b[0mx_features\u001b[0m\u001b[0;34m]\u001b[0m\u001b[0;34m,\u001b[0m \u001b[0mself\u001b[0m\u001b[0;34m.\u001b[0m\u001b[0mlogreg_main\u001b[0m\u001b[0;34m)\u001b[0m\u001b[0;34m\u001b[0m\u001b[0;34m\u001b[0m\u001b[0m\n\u001b[0m",
      "\u001b[0;31mNameError\u001b[0m: name 'self' is not defined"
     ]
    }
   ],
   "source": [
    "#run regression\n",
    "logit = LogisticalRegression()\n",
    "logit.run_classifier(dax_data)\n",
    "x_features = [header for header in list(dax_data.model) if \"lagged\" in header]\n",
    "logit.get_predicted_probabilities(dax_data.model[x_features], logit.logreg_main)"
   ]
  },
  {
   "cell_type": "code",
   "execution_count": null,
   "metadata": {},
   "outputs": [],
   "source": []
  },
  {
   "cell_type": "code",
   "execution_count": null,
   "metadata": {},
   "outputs": [],
   "source": []
  }
 ],
 "metadata": {
  "kernelspec": {
   "display_name": "Python 3",
   "language": "python",
   "name": "python3"
  },
  "language_info": {
   "codemirror_mode": {
    "name": "ipython",
    "version": 3
   },
   "file_extension": ".py",
   "mimetype": "text/x-python",
   "name": "python",
   "nbconvert_exporter": "python",
   "pygments_lexer": "ipython3",
   "version": "3.6.8"
  },
  "varInspector": {
   "cols": {
    "lenName": 16,
    "lenType": 16,
    "lenVar": 40
   },
   "kernels_config": {
    "python": {
     "delete_cmd_postfix": "",
     "delete_cmd_prefix": "del ",
     "library": "var_list.py",
     "varRefreshCmd": "print(var_dic_list())"
    },
    "r": {
     "delete_cmd_postfix": ") ",
     "delete_cmd_prefix": "rm(",
     "library": "var_list.r",
     "varRefreshCmd": "cat(var_dic_list()) "
    }
   },
   "position": {
    "height": "144.85px",
    "left": "761px",
    "right": "20px",
    "top": "135px",
    "width": "350px"
   },
   "types_to_exclude": [
    "module",
    "function",
    "builtin_function_or_method",
    "instance",
    "_Feature"
   ],
   "window_display": false
  }
 },
 "nbformat": 4,
 "nbformat_minor": 2
}
